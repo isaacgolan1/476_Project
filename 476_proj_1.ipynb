{
 "cells": [
  {
   "cell_type": "code",
   "execution_count": 15,
   "id": "770e87e8-8d85-4d7c-969e-ff3dc58a53e3",
   "metadata": {
    "collapsed": false
   },
   "outputs": [],
   "source": [
    "import pandas as pd\n",
    "import numpy as np\n",
    "import json\n",
    "data = pd.read_csv('products.csv')\n",
    "\n"
   ]
  },
  {
   "cell_type": "markdown",
   "id": "6e6d7655-e634-4a86-97a9-e8d678deca8f",
   "metadata": {
    "collapsed": false
   },
   "source": [
    ".head() just shows the first 5 cells of the dataframe\n",
    "\n",
    "TCIN means \"Target.com Item Number\"\n",
    "\n",
    "SKU means \"Stock Keeping Unit\"\n",
    "\n",
    "NOON I think is just null/NaN/None"
   ]
  },
  {
   "cell_type": "code",
   "execution_count": 16,
   "id": "6a829d28-eb92-4771-8cfc-cf9c3f8f0649",
   "metadata": {
    "collapsed": false
   },
   "outputs": [
    {
     "data": {
      "text/html": [
       "<div>\n",
       "<style scoped>\n",
       "    .dataframe tbody tr th:only-of-type {\n",
       "        vertical-align: middle;\n",
       "    }\n",
       "\n",
       "    .dataframe tbody tr th {\n",
       "        vertical-align: top;\n",
       "    }\n",
       "\n",
       "    .dataframe thead th {\n",
       "        text-align: right;\n",
       "    }\n",
       "</style>\n",
       "<table border=\"1\" class=\"dataframe\">\n",
       "  <thead>\n",
       "    <tr style=\"text-align: right;\">\n",
       "      <th></th>\n",
       "      <th>category</th>\n",
       "      <th>date-collected</th>\n",
       "      <th>product</th>\n",
       "      <th>product-details</th>\n",
       "      <th>query</th>\n",
       "      <th>store</th>\n",
       "    </tr>\n",
       "  </thead>\n",
       "  <tbody>\n",
       "    <tr>\n",
       "      <th>0</th>\n",
       "      <td>vegetables</td>\n",
       "      <td>2021-08-24</td>\n",
       "      <td>vegetables</td>\n",
       "      <td>{\"tcin\":{\"S\":\"47095644\"},\"pricing\":{\"M\":{\"curr...</td>\n",
       "      <td>vegetables</td>\n",
       "      <td>target</td>\n",
       "    </tr>\n",
       "    <tr>\n",
       "      <th>1</th>\n",
       "      <td>vegetables</td>\n",
       "      <td>2021-08-24</td>\n",
       "      <td>vegetables</td>\n",
       "      <td>{\"images\":{\"M\":{\"image_keys\":{\"L\":[{\"S\":\"v1628...</td>\n",
       "      <td>vegetables</td>\n",
       "      <td>noon</td>\n",
       "    </tr>\n",
       "    <tr>\n",
       "      <th>2</th>\n",
       "      <td>fish_seafood</td>\n",
       "      <td>2021-08-23</td>\n",
       "      <td>seafood</td>\n",
       "      <td>{\"images\":{\"M\":{\"image_keys\":{\"L\":[{\"S\":\"v1558...</td>\n",
       "      <td>seafood</td>\n",
       "      <td>noon</td>\n",
       "    </tr>\n",
       "    <tr>\n",
       "      <th>3</th>\n",
       "      <td>oils_fats</td>\n",
       "      <td>2021-08-24</td>\n",
       "      <td>butter</td>\n",
       "      <td>{\"tcin\":{\"S\":\"53930343\"},\"pricing\":{\"M\":{\"curr...</td>\n",
       "      <td>butter</td>\n",
       "      <td>target</td>\n",
       "    </tr>\n",
       "    <tr>\n",
       "      <th>4</th>\n",
       "      <td>small_electric_household_appliances</td>\n",
       "      <td>2021-08-25</td>\n",
       "      <td>rice cooker</td>\n",
       "      <td>{\"sku\":{\"S\":\"131735446\"},\"pricing\":{\"M\":{\"disp...</td>\n",
       "      <td>rice cooker</td>\n",
       "      <td>walmart</td>\n",
       "    </tr>\n",
       "  </tbody>\n",
       "</table>\n",
       "</div>"
      ],
      "text/plain": [
       "                              category date-collected      product  \\\n",
       "0                           vegetables     2021-08-24   vegetables   \n",
       "1                           vegetables     2021-08-24   vegetables   \n",
       "2                         fish_seafood     2021-08-23      seafood   \n",
       "3                            oils_fats     2021-08-24       butter   \n",
       "4  small_electric_household_appliances     2021-08-25  rice cooker   \n",
       "\n",
       "                                     product-details        query    store  \n",
       "0  {\"tcin\":{\"S\":\"47095644\"},\"pricing\":{\"M\":{\"curr...   vegetables   target  \n",
       "1  {\"images\":{\"M\":{\"image_keys\":{\"L\":[{\"S\":\"v1628...   vegetables     noon  \n",
       "2  {\"images\":{\"M\":{\"image_keys\":{\"L\":[{\"S\":\"v1558...      seafood     noon  \n",
       "3  {\"tcin\":{\"S\":\"53930343\"},\"pricing\":{\"M\":{\"curr...       butter   target  \n",
       "4  {\"sku\":{\"S\":\"131735446\"},\"pricing\":{\"M\":{\"disp...  rice cooker  walmart  "
      ]
     },
     "execution_count": 16,
     "metadata": {},
     "output_type": "execute_result"
    }
   ],
   "source": [
    "data.head()"
   ]
  },
  {
   "cell_type": "markdown",
   "id": "0b232eed-1c94-49bd-bdd9-caf01d75eaab",
   "metadata": {
    "collapsed": false
   },
   "source": [
    "See that each dictionary that describes a product is totally unreadable"
   ]
  },
  {
   "cell_type": "code",
   "execution_count": 17,
   "id": "6a88aff7-d1c0-413a-b249-254f1c6b6c24",
   "metadata": {
    "collapsed": false
   },
   "outputs": [
    {
     "data": {
      "text/plain": [
       "'{\"tcin\":{\"S\":\"47095644\"},\"pricing\":{\"M\":{\"current_retail\":{\"N\":\"0.69\"},\"formatted_current_price\":{\"S\":\"$0.69\"},\"formatted_current_price_type\":{\"S\":\"reg\"}}},\"info\":{\"M\":{\"product_vendors\":{\"L\":[{\"M\":{\"vendor_name\":{\"S\":\"D.L.J. Produce Inc.\"},\"id\":{\"S\":\"1990011\"}}},{\"M\":{\"vendor_name\":{\"S\":\"Armstrong Produce, LTD\"},\"id\":{\"S\":\"1980532\"}}},{\"M\":{\"vendor_name\":{\"S\":\"Nature Fresh Farms Inc.\"},\"id\":{\"S\":\"1977164\"}}},{\"M\":{\"vendor_name\":{\"S\":\"West Pak Avocado Inc.\"},\"id\":{\"S\":\"1973872\"}}},{\"M\":{\"vendor_name\":{\"S\":\"Index Fresh\"},\"id\":{\"S\":\"1973861\"}}},{\"M\":{\"vendor_name\":{\"S\":\"KULA PRODUCE\"},\"id\":{\"S\":\"1334034\"}}},{\"M\":{\"vendor_name\":{\"S\":\"CASTELLINI COMPANY LLC\"},\"id\":{\"S\":\"1313589\"}}},{\"M\":{\"vendor_name\":{\"S\":\"CALAVO GROWERS INC\"},\"id\":{\"S\":\"1295128\"}}},{\"M\":{\"vendor_name\":{\"S\":\"MISSION PRODUCE INC\"},\"id\":{\"S\":\"1289574\"}}},{\"M\":{\"vendor_name\":{\"S\":\"CHARLIE\\'S PRODUCE\"},\"id\":{\"S\":\"1282296\"}}},{\"M\":{\"vendor_name\":{\"S\":\"C.H. ROBINSON - DSD\"},\"id\":{\"S\":\"1264366\"}}},{\"M\":{\"vendor_name\":{\"S\":\"WHOLESALE PROD SUPPLY CO\"},\"id\":{\"S\":\"1263529\"}}},{\"M\":{\"vendor_name\":{\"S\":\"CH ROBINSON - LOCAL\"},\"id\":{\"S\":\"1263516\"}}},{\"M\":{\"vendor_name\":{\"S\":\"HILO PRODUCTS INC\"},\"id\":{\"S\":\"1262766\"}}},{\"M\":{\"vendor_name\":{\"S\":\"JAMES D. SWOISH, INC.\"},\"id\":{\"S\":\"1251913\"}}},{\"M\":{\"vendor_name\":{\"S\":\"TOM LANGE CO. INC.\"},\"id\":{\"S\":\"1247008\"}}},{\"M\":{\"vendor_name\":{\"S\":\"NICKEY GREGORY CO\"},\"id\":{\"S\":\"1236734\"}}},{\"M\":{\"vendor_name\":{\"S\":\"GENERAL PRODUCE INC-DFD\"},\"id\":{\"S\":\"1236161\"}}},{\"M\":{\"vendor_name\":{\"S\":\"DEL MONTE FRESH PRODUCE\"},\"id\":{\"S\":\"1232217\"}}},{\"M\":{\"vendor_name\":{\"S\":\"NOGALES PRODUCE\"},\"id\":{\"S\":\"1229259\"}}},{\"M\":{\"vendor_name\":{\"S\":\"COMBS PRODUCE\"},\"id\":{\"S\":\"1228467\"}}},{\"M\":{\"vendor_name\":{\"S\":\"C & S WHOLESALE GROCERS\"},\"id\":{\"S\":\"1142161\"}}},{\"M\":{\"vendor_name\":{\"S\":\"Heartland Produce Company\"},\"id\":{\"S\":\"1990809\"}}}]},\"enrichment\":{\"M\":{\"buy_url\":{\"S\":\"https://www.target.com/p/avocado-each/-/A-47095644\"},\"images\":{\"M\":{\"alternate_image_urls\":{\"L\":[{\"S\":\"https://target.scene7.com/is/image/Target/GUEST_8958b79a-b301-4205-ae5e-7f975b289f01\"},{\"S\":\"https://target.scene7.com/is/image/Target/GUEST_e3699da9-bae1-4ce6-8466-952771c7e5ea\"},{\"S\":\"https://target.scene7.com/is/image/Target/GUEST_84180f31-2c19-4d6e-8f04-54f5a187112e\"},{\"S\":\"https://target.scene7.com/is/image/Target/GUEST_9824f5c7-1225-4525-896f-65775a994cfa\"},{\"S\":\"https://target.scene7.com/is/image/Target/GUEST_c427dad1-6e34-475f-a914-e7d19d36ec4a\"},{\"S\":\"https://target.scene7.com/is/image/Target/GUEST_4a0e1d3e-8c77-443b-a1fa-d6cd13dce3fb\"},{\"S\":\"https://target.scene7.com/is/image/Target/GUEST_35beea55-892c-4bc9-b042-1fef27c915ce\"},{\"S\":\"https://target.scene7.com/is/image/Target/GUEST_b6c7cfb4-5321-4814-8c11-81ed4227c705\"},{\"S\":\"https://target.scene7.com/is/image/Target/GUEST_9de1ad41-c53a-4814-bb95-9a4f8003ca99\"},{\"S\":\"https://target.scene7.com/is/image/Target/GUEST_9ecf1d9e-376c-46b0-b34b-bda3985bf6cb\"}]},\"primary_image_url\":{\"S\":\"https://target.scene7.com/is/image/Target/GUEST_6d9d5f9f-7206-49c4-a381-6ba5a0c08504\"}}}}},\"eligibility_rules\":{\"M\":{\"grocery\":{\"M\":{\"is_active\":{\"BOOL\":true}}},\"scheduled_delivery\":{\"M\":{\"is_active\":{\"BOOL\":true}}},\"add_on\":{\"M\":{\"is_active\":{\"BOOL\":false}}}}},\"relationship_type\":{\"S\":\"Stand Alone\"},\"relationship_type_code\":{\"S\":\"SA\"},\"fulfillment\":{\"M\":{}},\"product_description\":{\"M\":{\"title\":{\"S\":\"Avocado - each\"},\"soft_bullets\":{\"M\":{\"bullets\":{\"L\":[{\"S\":\"One Hass Avocado\"},{\"S\":\"Creamy texture and mild flavor\"},{\"S\":\"Perfect in healthy snacks, fresh guacamole, power bowls, avocado dressing, salads and avocado salsa\"},{\"S\":\"A cholesterol free fruit that contains almost 20 vitamins, minerals and phytonutrients\"},{\"S\":\"Contains Vitamin E, Vitamin K, Vitamin C and Vitamins B5 and B9\"},{\"S\":\"The lowest sugar fruit that provides unsaturated \\\\\"good fats\\\\\"\"},{\"S\":\"Ripe avocados should yield to gentle pressure without leaving indentations or feeling mushy\"}]}}},\"bullet_descriptions\":{\"L\":[{\"S\":\"<B>Contains:</B> Does Not Contain Any of the 8 Major Allergens\"},{\"S\":\"<B>Form:</B> Whole\"},{\"S\":\"<B>State of Readiness:</B> Ready to Eat\"},{\"S\":\"<B>Package Quantity:</B> 1\"},{\"S\":\"<B>Pre-package preparation:</B> Raw\"},{\"S\":\"<B>Package type:</B> Individual Item Multi-Serving\"},{\"S\":\"<B>Net weight:</B> 7.5  Ounces\"},{\"S\":\"<B>Country of Origin:</B> Varies, Please See Label\"}]}}},\"merchandise_classification\":{\"M\":{\"department_id\":{\"N\":\"224\"},\"class_id\":{\"N\":\"12\"}}},\"dpci\":{\"S\":\"224-12-4770\"},\"cart_add_on_threshold\":{\"N\":\"35\"}}}}'"
      ]
     },
     "execution_count": 17,
     "metadata": {},
     "output_type": "execute_result"
    }
   ],
   "source": [
    "data[\"product-details\"]\n",
    "data[\"product-details\"][0]\n"
   ]
  },
  {
   "cell_type": "markdown",
   "id": "37011a9c-ae95-4068-95ae-7734ee81c023",
   "metadata": {
    "collapsed": false
   },
   "source": [
    "\"product-details\" is the real meat of the data set. This FOR LOOP loops through product-details column, which contains a bunch of nested dictionaries that are in string form. \"True\" with a capital T and \"False\" with a capital F is the correct Python syntax, so it makes this correction. \n",
    "\n",
    "The variable productdetails_arr is a list of indices 0 to 3245, which at each index contains a dictionary describing each product. "
   ]
  },
  {
   "cell_type": "code",
   "execution_count": 18,
   "id": "73468d1d-1c9c-468e-bfb7-0bf341dc0110",
   "metadata": {
    "collapsed": false
   },
   "outputs": [],
   "source": [
    "testseries = data[\"product-details\"]\n",
    "productdetails_arr = []\n",
    "for item in testseries:\n",
    "    item = item.replace(\"true\", \"True\")\n",
    "    item = item.replace(\"false\", \"False\")\n",
    "    productdetails_arr.append(eval(item))"
   ]
  },
  {
   "cell_type": "markdown",
   "id": "4dabbb85-61a7-4ec8-a4d7-02092c16f445",
   "metadata": {
    "collapsed": false
   },
   "source": [
    "The json.dumps is purely a visualization tool, that automatically displays a very readable formatted complex and hard to read dictionary.\n",
    "\n",
    "This is an example of it used to visualize data about the first (0th) product."
   ]
  },
  {
   "cell_type": "code",
   "execution_count": 37,
   "id": "3bfbe524-af1c-489f-85ac-848df15a9e19",
   "metadata": {
    "collapsed": false
   },
   "outputs": [
    {
     "name": "stdout",
     "output_type": "stream",
     "text": [
      "{\n",
      "    \"images\": {\n",
      "        \"M\": {\n",
      "            \"image_keys\": {\n",
      "                \"L\": [\n",
      "                    {\n",
      "                        \"S\": \"v1628406832/N29469747A_1\"\n",
      "                    }\n",
      "                ]\n",
      "            }\n",
      "        }\n",
      "    },\n",
      "    \"name\": {\n",
      "        \"S\": \"Char Grilled Peppers 290g\"\n",
      "    },\n",
      "    \"sku\": {\n",
      "        \"S\": \"N29469747A\"\n",
      "    },\n",
      "    \"brand\": {\n",
      "        \"S\": \"Sacla\"\n",
      "    },\n",
      "    \"specifications\": {\n",
      "        \"L\": [\n",
      "            {\n",
      "                \"M\": {\n",
      "                    \"name\": {\n",
      "                        \"S\": \"Packaging Disclaimer\"\n",
      "                    },\n",
      "                    \"value\": {\n",
      "                        \"S\": \"Packaging may vary\"\n",
      "                    },\n",
      "                    \"code\": {\n",
      "                        \"S\": \"attribute_key_3\"\n",
      "                    }\n",
      "                }\n",
      "            },\n",
      "            {\n",
      "                \"M\": {\n",
      "                    \"name\": {\n",
      "                        \"S\": \"Size\"\n",
      "                    },\n",
      "                    \"value\": {\n",
      "                        \"S\": \"290 g\"\n",
      "                    },\n",
      "                    \"code\": {\n",
      "                        \"S\": \"size\"\n",
      "                    }\n",
      "                }\n",
      "            }\n",
      "        ]\n",
      "    },\n",
      "    \"pricing\": {\n",
      "        \"M\": {\n",
      "            \"sale_price\": {\n",
      "                \"NULL\": true\n",
      "            },\n",
      "            \"price\": {\n",
      "                \"N\": \"13.6\"\n",
      "            }\n",
      "        }\n",
      "    },\n",
      "    \"url\": {\n",
      "        \"S\": \"char-grilled-peppers-290g/N29469747A\"\n",
      "    }\n",
      "}\n"
     ]
    }
   ],
   "source": [
    "print(json.dumps(productdetails_arr[1], indent=4))"
   ]
  },
  {
   "cell_type": "markdown",
   "id": "bfa24780-1b9c-40ee-b20d-d449509020f4",
   "metadata": {
    "collapsed": false
   },
   "source": [
    "Making a list of the different categories and products."
   ]
  },
  {
   "cell_type": "code",
   "execution_count": 20,
   "id": "06ff011c-f089-4573-a4e4-df3ae0efd5e9",
   "metadata": {
    "collapsed": false
   },
   "outputs": [],
   "source": [
    "category_list = list(set(data[\"category\"]))"
   ]
  },
  {
   "cell_type": "code",
   "execution_count": 21,
   "id": "f5b5f28d-8aa2-4c23-8f09-df312de887a3",
   "metadata": {
    "collapsed": false
   },
   "outputs": [
    {
     "name": "stdout",
     "output_type": "stream",
     "text": [
      "['vegetables', 'milk_cheese_eggs', 'fish_seafood', 'small_electric_household_appliances', 'beef', 'meat', 'oils_fats', 'bread_cereal']\n"
     ]
    }
   ],
   "source": [
    "print(category_list)"
   ]
  },
  {
   "cell_type": "code",
   "execution_count": 22,
   "id": "545a7e14-0f7f-4ade-99bb-a1186a7fafc9",
   "metadata": {
    "collapsed": false
   },
   "outputs": [],
   "source": [
    "category_dict = {}\n",
    "for category in category_list:\n",
    "    category_dict[category] = []"
   ]
  },
  {
   "cell_type": "code",
   "execution_count": 23,
   "id": "f04b436c-7f37-4a43-ac30-d2a7d9c49487",
   "metadata": {
    "collapsed": false
   },
   "outputs": [],
   "source": [
    "product_list = list(set(data[\"product\"]))"
   ]
  },
  {
   "cell_type": "code",
   "execution_count": 24,
   "id": "077a7c7c-edae-422e-aa07-1b5dce0aa188",
   "metadata": {
    "collapsed": false,
    "vscode": {
     "languageId": "perl"
    }
   },
   "outputs": [
    {
     "data": {
      "text/plain": [
       "['vegetables',\n",
       " 'eggs',\n",
       " 'veal',\n",
       " 'beef',\n",
       " 'mixer',\n",
       " 'bakery',\n",
       " 'fish',\n",
       " 'food processor',\n",
       " 'seafood',\n",
       " 'pasta',\n",
       " 'potatoes',\n",
       " 'bread',\n",
       " 'toaster',\n",
       " 'rice',\n",
       " 'butter',\n",
       " 'margarine',\n",
       " 'frozen-fish',\n",
       " 'frozen-seafood',\n",
       " 'microwave',\n",
       " 'cereal',\n",
       " 'rice cooker',\n",
       " 'goat',\n",
       " 'poultry',\n",
       " 'curd',\n",
       " 'cheese',\n",
       " 'coffee maker',\n",
       " 'fryer',\n",
       " 'electric grill',\n",
       " 'oil',\n",
       " 'chicken',\n",
       " 'couscous',\n",
       " 'milk',\n",
       " 'lamb',\n",
       " 'tuber-vegetables']"
      ]
     },
     "execution_count": 24,
     "metadata": {},
     "output_type": "execute_result"
    }
   ],
   "source": [
    "product_list"
   ]
  },
  {
   "cell_type": "code",
   "execution_count": 25,
   "id": "7550b30a-47e4-41d3-8882-efca7f2cad1c",
   "metadata": {
    "collapsed": false
   },
   "outputs": [
    {
     "data": {
      "text/plain": [
       "['target', 'walmart', 'ubuy', 'noon']"
      ]
     },
     "execution_count": 25,
     "metadata": {},
     "output_type": "execute_result"
    }
   ],
   "source": [
    "store_list = list(set(data[\"store\"]))\n",
    "store_list"
   ]
  },
  {
   "cell_type": "code",
   "execution_count": 26,
   "id": "a0a541f2-a71b-4954-8ba5-b76582176a88",
   "metadata": {
    "collapsed": false
   },
   "outputs": [
    {
     "data": {
      "text/plain": [
       "{'vegetables': {'potatoes', 'tuber-vegetables', 'vegetables'},\n",
       " 'milk_cheese_eggs': {'cheese', 'curd', 'eggs', 'milk'},\n",
       " 'fish_seafood': {'fish', 'frozen-fish', 'frozen-seafood', 'seafood'},\n",
       " 'small_electric_household_appliances': {'coffee maker',\n",
       "  'electric grill',\n",
       "  'food processor',\n",
       "  'fryer',\n",
       "  'microwave',\n",
       "  'mixer',\n",
       "  'rice cooker',\n",
       "  'toaster'},\n",
       " 'beef': {'beef'},\n",
       " 'meat': {'beef', 'chicken', 'goat', 'lamb', 'poultry', 'veal'},\n",
       " 'oils_fats': {'butter', 'margarine', 'oil'},\n",
       " 'bread_cereal': {'bakery', 'bread', 'cereal', 'couscous', 'pasta', 'rice'}}"
      ]
     },
     "execution_count": 26,
     "metadata": {},
     "output_type": "execute_result"
    }
   ],
   "source": [
    "categoryProductRelations = {}\n",
    "for category in category_list:\n",
    "    products = []\n",
    "    for rowProduct, rowCategory in zip(data[\"product\"], data[\"category\"]):\n",
    "        if rowCategory == category:\n",
    "            products.append(rowProduct)\n",
    "    categoryProductRelations[category] = set(products)\n",
    "categoryProductRelations"
   ]
  },
  {
   "cell_type": "code",
   "execution_count": 27,
   "id": "e0be7c42-d073-4b8d-a69a-98a09b43b810",
   "metadata": {
    "collapsed": false
   },
   "outputs": [],
   "source": [
    "import networkx as nx\n",
    "import matplotlib.pyplot as plt\n",
    "import scipy as sci"
   ]
  },
  {
   "cell_type": "code",
   "execution_count": 28,
   "id": "74145047-48e7-48b1-b513-49628ed666e0",
   "metadata": {
    "collapsed": false
   },
   "outputs": [
    {
     "data": {
      "image/png": "[encoded data removed]",
      "text/plain": [
       "<Figure size 432x288 with 1 Axes>"
      ]
     },
     "metadata": {},
     "output_type": "display_data"
    }
   ],
   "source": [
    "\n",
    "nodeNames = category_list + product_list\n",
    "G = nx.Graph()\n",
    "G.add_nodes_from(nodeNames)\n",
    "for category in category_list:\n",
    "    for product in product_list:\n",
    "        if product in categoryProductRelations[category]:\n",
    "            G.add_edge(category, product)\n",
    "\n",
    "pos = nx.planar_layout(G)\n",
    "nx.draw(G, with_labels= True, pos=pos)"
   ]
  },
  {
   "cell_type": "code",
   "execution_count": 36,
   "id": "74c82391-1e92-4cc7-a2bc-22711ac8f403",
   "metadata": {
    "collapsed": false
   },
   "outputs": [
    {
     "name": "stdout",
     "output_type": "stream",
     "text": [
      "0.9985405720957384\n"
     ]
    }
   ],
   "source": [
    "count = 0\n",
    "detailsList = []\n",
    "for rawDetails in data[\"product-details\"]:\n",
    "    details = json.loads(rawDetails)\n",
    "    if \"pricing\" in details:\n",
    "        count += 1\n",
    "print(count/len(data))\n"
   ]
  },
  {
   "cell_type": "code",
   "execution_count": null,
   "id": "8c879e55-6cfb-4841-ac46-5e2ec316b838",
   "metadata": {
    "collapsed": false
   },
   "outputs": [],
   "source": [
    "for category in category_list:\n",
    "    \n",
    "    "
   ]
  }
 ],
 "metadata": {
  "kernelspec": {
   "argv": [
    "python",
    "-m",
    "ipykernel_launcher",
    "-f",
    "{connection_file}"
   ],
   "display_name": "Python 3 (ipykernel)",
   "env": null,
   "interrupt_mode": "signal",
   "language": "python",
   "metadata": {
    "debugger": true
   },
   "name": "python3"
  },
  "language_info": {
   "codemirror_mode": {
    "name": "ipython",
    "version": 3
   },
   "file_extension": ".py",
   "mimetype": "text/x-python",
   "name": "python",
   "nbconvert_exporter": "python",
   "pygments_lexer": "ipython3",
   "version": "3.9.12"
  },
  "name": "476_proj_1.ipynb"
 },
 "nbformat": 4,
 "nbformat_minor": 2
}
