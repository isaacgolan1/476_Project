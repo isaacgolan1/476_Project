{
 "cells": [
  {
   "cell_type": "code",
   "execution_count": 22,
   "metadata": {},
   "outputs": [],
   "source": [
    "import pandas as pd\n",
    "import numpy as np\n",
    "import json\n",
    "data = pd.read_csv('products.csv')\n"
   ]
  },
  {
   "attachments": {},
   "cell_type": "markdown",
   "metadata": {},
   "source": [
    ".head() just shows the first 5 cells of the dataframe\n",
    "\n",
    "TCIN means \"Target.com Item Number\"\n",
    "\n",
    "SKU means \"Stock Keeping Unit\"\n",
    "\n",
    "NOON I think is just null/NaN/None"
   ]
  },
  {
   "cell_type": "code",
   "execution_count": 23,
   "metadata": {},
   "outputs": [
    {
     "data": {
      "text/html": [
       "<div>\n",
       "<style scoped>\n",
       "    .dataframe tbody tr th:only-of-type {\n",
       "        vertical-align: middle;\n",
       "    }\n",
       "\n",
       "    .dataframe tbody tr th {\n",
       "        vertical-align: top;\n",
       "    }\n",
       "\n",
       "    .dataframe thead th {\n",
       "        text-align: right;\n",
       "    }\n",
       "</style>\n",
       "<table border=\"1\" class=\"dataframe\">\n",
       "  <thead>\n",
       "    <tr style=\"text-align: right;\">\n",
       "      <th></th>\n",
       "      <th>uuid</th>\n",
       "      <th>category</th>\n",
       "      <th>date-collected</th>\n",
       "      <th>product</th>\n",
       "      <th>product-details</th>\n",
       "      <th>query</th>\n",
       "      <th>store</th>\n",
       "    </tr>\n",
       "  </thead>\n",
       "  <tbody>\n",
       "    <tr>\n",
       "      <th>0</th>\n",
       "      <td>d0349131-9f38-4774-952a-a6e54c0e9554</td>\n",
       "      <td>vegetables</td>\n",
       "      <td>2021-08-24</td>\n",
       "      <td>vegetables</td>\n",
       "      <td>{\"tcin\":{\"S\":\"47095644\"},\"pricing\":{\"M\":{\"curr...</td>\n",
       "      <td>vegetables</td>\n",
       "      <td>target</td>\n",
       "    </tr>\n",
       "    <tr>\n",
       "      <th>1</th>\n",
       "      <td>93fc6bce-7760-4ee0-b29c-29df2bcb1b50</td>\n",
       "      <td>vegetables</td>\n",
       "      <td>2021-08-24</td>\n",
       "      <td>vegetables</td>\n",
       "      <td>{\"images\":{\"M\":{\"image_keys\":{\"L\":[{\"S\":\"v1628...</td>\n",
       "      <td>vegetables</td>\n",
       "      <td>noon</td>\n",
       "    </tr>\n",
       "    <tr>\n",
       "      <th>2</th>\n",
       "      <td>91c95b6f-9644-42b0-a54e-ec6e30eb03ca</td>\n",
       "      <td>fish_seafood</td>\n",
       "      <td>2021-08-23</td>\n",
       "      <td>seafood</td>\n",
       "      <td>{\"images\":{\"M\":{\"image_keys\":{\"L\":[{\"S\":\"v1558...</td>\n",
       "      <td>seafood</td>\n",
       "      <td>noon</td>\n",
       "    </tr>\n",
       "    <tr>\n",
       "      <th>3</th>\n",
       "      <td>71cd340b-27f1-477b-a9c0-5f021bbf3b16</td>\n",
       "      <td>oils_fats</td>\n",
       "      <td>2021-08-24</td>\n",
       "      <td>butter</td>\n",
       "      <td>{\"tcin\":{\"S\":\"53930343\"},\"pricing\":{\"M\":{\"curr...</td>\n",
       "      <td>butter</td>\n",
       "      <td>target</td>\n",
       "    </tr>\n",
       "    <tr>\n",
       "      <th>4</th>\n",
       "      <td>f87fc9e2-a1c2-4728-97fb-a798aa96f4df</td>\n",
       "      <td>small_electric_household_appliances</td>\n",
       "      <td>2021-08-25</td>\n",
       "      <td>rice cooker</td>\n",
       "      <td>{\"sku\":{\"S\":\"131735446\"},\"pricing\":{\"M\":{\"disp...</td>\n",
       "      <td>rice cooker</td>\n",
       "      <td>walmart</td>\n",
       "    </tr>\n",
       "  </tbody>\n",
       "</table>\n",
       "</div>"
      ],
      "text/plain": [
       "                                   uuid                             category  \\\n",
       "0  d0349131-9f38-4774-952a-a6e54c0e9554                           vegetables   \n",
       "1  93fc6bce-7760-4ee0-b29c-29df2bcb1b50                           vegetables   \n",
       "2  91c95b6f-9644-42b0-a54e-ec6e30eb03ca                         fish_seafood   \n",
       "3  71cd340b-27f1-477b-a9c0-5f021bbf3b16                            oils_fats   \n",
       "4  f87fc9e2-a1c2-4728-97fb-a798aa96f4df  small_electric_household_appliances   \n",
       "\n",
       "  date-collected      product  \\\n",
       "0     2021-08-24   vegetables   \n",
       "1     2021-08-24   vegetables   \n",
       "2     2021-08-23      seafood   \n",
       "3     2021-08-24       butter   \n",
       "4     2021-08-25  rice cooker   \n",
       "\n",
       "                                     product-details        query    store  \n",
       "0  {\"tcin\":{\"S\":\"47095644\"},\"pricing\":{\"M\":{\"curr...   vegetables   target  \n",
       "1  {\"images\":{\"M\":{\"image_keys\":{\"L\":[{\"S\":\"v1628...   vegetables     noon  \n",
       "2  {\"images\":{\"M\":{\"image_keys\":{\"L\":[{\"S\":\"v1558...      seafood     noon  \n",
       "3  {\"tcin\":{\"S\":\"53930343\"},\"pricing\":{\"M\":{\"curr...       butter   target  \n",
       "4  {\"sku\":{\"S\":\"131735446\"},\"pricing\":{\"M\":{\"disp...  rice cooker  walmart  "
      ]
     },
     "execution_count": 23,
     "metadata": {},
     "output_type": "execute_result"
    }
   ],
   "source": [
    "data.head()"
   ]
  },
  {
   "attachments": {},
   "cell_type": "markdown",
   "metadata": {},
   "source": [
    "See that each dictionary that describes a product is totally unreadable"
   ]
  },
  {
   "cell_type": "code",
   "execution_count": 24,
   "metadata": {},
   "outputs": [
    {
     "data": {
      "text/plain": [
       "'{\"tcin\":{\"S\":\"47095644\"},\"pricing\":{\"M\":{\"current_retail\":{\"N\":\"0.69\"},\"formatted_current_price\":{\"S\":\"$0.69\"},\"formatted_current_price_type\":{\"S\":\"reg\"}}},\"info\":{\"M\":{\"product_vendors\":{\"L\":[{\"M\":{\"vendor_name\":{\"S\":\"D.L.J. Produce Inc.\"},\"id\":{\"S\":\"1990011\"}}},{\"M\":{\"vendor_name\":{\"S\":\"Armstrong Produce, LTD\"},\"id\":{\"S\":\"1980532\"}}},{\"M\":{\"vendor_name\":{\"S\":\"Nature Fresh Farms Inc.\"},\"id\":{\"S\":\"1977164\"}}},{\"M\":{\"vendor_name\":{\"S\":\"West Pak Avocado Inc.\"},\"id\":{\"S\":\"1973872\"}}},{\"M\":{\"vendor_name\":{\"S\":\"Index Fresh\"},\"id\":{\"S\":\"1973861\"}}},{\"M\":{\"vendor_name\":{\"S\":\"KULA PRODUCE\"},\"id\":{\"S\":\"1334034\"}}},{\"M\":{\"vendor_name\":{\"S\":\"CASTELLINI COMPANY LLC\"},\"id\":{\"S\":\"1313589\"}}},{\"M\":{\"vendor_name\":{\"S\":\"CALAVO GROWERS INC\"},\"id\":{\"S\":\"1295128\"}}},{\"M\":{\"vendor_name\":{\"S\":\"MISSION PRODUCE INC\"},\"id\":{\"S\":\"1289574\"}}},{\"M\":{\"vendor_name\":{\"S\":\"CHARLIE\\'S PRODUCE\"},\"id\":{\"S\":\"1282296\"}}},{\"M\":{\"vendor_name\":{\"S\":\"C.H. ROBINSON - DSD\"},\"id\":{\"S\":\"1264366\"}}},{\"M\":{\"vendor_name\":{\"S\":\"WHOLESALE PROD SUPPLY CO\"},\"id\":{\"S\":\"1263529\"}}},{\"M\":{\"vendor_name\":{\"S\":\"CH ROBINSON - LOCAL\"},\"id\":{\"S\":\"1263516\"}}},{\"M\":{\"vendor_name\":{\"S\":\"HILO PRODUCTS INC\"},\"id\":{\"S\":\"1262766\"}}},{\"M\":{\"vendor_name\":{\"S\":\"JAMES D. SWOISH, INC.\"},\"id\":{\"S\":\"1251913\"}}},{\"M\":{\"vendor_name\":{\"S\":\"TOM LANGE CO. INC.\"},\"id\":{\"S\":\"1247008\"}}},{\"M\":{\"vendor_name\":{\"S\":\"NICKEY GREGORY CO\"},\"id\":{\"S\":\"1236734\"}}},{\"M\":{\"vendor_name\":{\"S\":\"GENERAL PRODUCE INC-DFD\"},\"id\":{\"S\":\"1236161\"}}},{\"M\":{\"vendor_name\":{\"S\":\"DEL MONTE FRESH PRODUCE\"},\"id\":{\"S\":\"1232217\"}}},{\"M\":{\"vendor_name\":{\"S\":\"NOGALES PRODUCE\"},\"id\":{\"S\":\"1229259\"}}},{\"M\":{\"vendor_name\":{\"S\":\"COMBS PRODUCE\"},\"id\":{\"S\":\"1228467\"}}},{\"M\":{\"vendor_name\":{\"S\":\"C & S WHOLESALE GROCERS\"},\"id\":{\"S\":\"1142161\"}}},{\"M\":{\"vendor_name\":{\"S\":\"Heartland Produce Company\"},\"id\":{\"S\":\"1990809\"}}}]},\"enrichment\":{\"M\":{\"buy_url\":{\"S\":\"https://www.target.com/p/avocado-each/-/A-47095644\"},\"images\":{\"M\":{\"alternate_image_urls\":{\"L\":[{\"S\":\"https://target.scene7.com/is/image/Target/GUEST_8958b79a-b301-4205-ae5e-7f975b289f01\"},{\"S\":\"https://target.scene7.com/is/image/Target/GUEST_e3699da9-bae1-4ce6-8466-952771c7e5ea\"},{\"S\":\"https://target.scene7.com/is/image/Target/GUEST_84180f31-2c19-4d6e-8f04-54f5a187112e\"},{\"S\":\"https://target.scene7.com/is/image/Target/GUEST_9824f5c7-1225-4525-896f-65775a994cfa\"},{\"S\":\"https://target.scene7.com/is/image/Target/GUEST_c427dad1-6e34-475f-a914-e7d19d36ec4a\"},{\"S\":\"https://target.scene7.com/is/image/Target/GUEST_4a0e1d3e-8c77-443b-a1fa-d6cd13dce3fb\"},{\"S\":\"https://target.scene7.com/is/image/Target/GUEST_35beea55-892c-4bc9-b042-1fef27c915ce\"},{\"S\":\"https://target.scene7.com/is/image/Target/GUEST_b6c7cfb4-5321-4814-8c11-81ed4227c705\"},{\"S\":\"https://target.scene7.com/is/image/Target/GUEST_9de1ad41-c53a-4814-bb95-9a4f8003ca99\"},{\"S\":\"https://target.scene7.com/is/image/Target/GUEST_9ecf1d9e-376c-46b0-b34b-bda3985bf6cb\"}]},\"primary_image_url\":{\"S\":\"https://target.scene7.com/is/image/Target/GUEST_6d9d5f9f-7206-49c4-a381-6ba5a0c08504\"}}}}},\"eligibility_rules\":{\"M\":{\"grocery\":{\"M\":{\"is_active\":{\"BOOL\":true}}},\"scheduled_delivery\":{\"M\":{\"is_active\":{\"BOOL\":true}}},\"add_on\":{\"M\":{\"is_active\":{\"BOOL\":false}}}}},\"relationship_type\":{\"S\":\"Stand Alone\"},\"relationship_type_code\":{\"S\":\"SA\"},\"fulfillment\":{\"M\":{}},\"product_description\":{\"M\":{\"title\":{\"S\":\"Avocado - each\"},\"soft_bullets\":{\"M\":{\"bullets\":{\"L\":[{\"S\":\"One Hass Avocado\"},{\"S\":\"Creamy texture and mild flavor\"},{\"S\":\"Perfect in healthy snacks, fresh guacamole, power bowls, avocado dressing, salads and avocado salsa\"},{\"S\":\"A cholesterol free fruit that contains almost 20 vitamins, minerals and phytonutrients\"},{\"S\":\"Contains Vitamin E, Vitamin K, Vitamin C and Vitamins B5 and B9\"},{\"S\":\"The lowest sugar fruit that provides unsaturated \\\\\"good fats\\\\\"\"},{\"S\":\"Ripe avocados should yield to gentle pressure without leaving indentations or feeling mushy\"}]}}},\"bullet_descriptions\":{\"L\":[{\"S\":\"<B>Contains:</B> Does Not Contain Any of the 8 Major Allergens\"},{\"S\":\"<B>Form:</B> Whole\"},{\"S\":\"<B>State of Readiness:</B> Ready to Eat\"},{\"S\":\"<B>Package Quantity:</B> 1\"},{\"S\":\"<B>Pre-package preparation:</B> Raw\"},{\"S\":\"<B>Package type:</B> Individual Item Multi-Serving\"},{\"S\":\"<B>Net weight:</B> 7.5  Ounces\"},{\"S\":\"<B>Country of Origin:</B> Varies, Please See Label\"}]}}},\"merchandise_classification\":{\"M\":{\"department_id\":{\"N\":\"224\"},\"class_id\":{\"N\":\"12\"}}},\"dpci\":{\"S\":\"224-12-4770\"},\"cart_add_on_threshold\":{\"N\":\"35\"}}}}'"
      ]
     },
     "execution_count": 24,
     "metadata": {},
     "output_type": "execute_result"
    }
   ],
   "source": [
    "data[\"product-details\"]\n",
    "data[\"product-details\"][0]\n"
   ]
  },
  {
   "attachments": {},
   "cell_type": "markdown",
   "metadata": {},
   "source": [
    "\"product-details\" is the real meat of the data set. This FOR LOOP loops through product-details column, which contains a bunch of nested dictionaries that are in string form. \"True\" with a capital T and \"False\" with a capital F is the correct Python syntax, so it makes this correction. \n",
    "\n",
    "The variable productdetails_arr is a list of indices 0 to 3245, which at each index contains a dictionary describing each product. "
   ]
  },
  {
   "cell_type": "code",
   "execution_count": 25,
   "metadata": {},
   "outputs": [],
   "source": [
    "testseries = data[\"product-details\"]\n",
    "productdetails_arr = []\n",
    "for item in testseries:\n",
    "    item = item.replace(\"true\", \"True\")\n",
    "    item = item.replace(\"false\", \"False\")\n",
    "    productdetails_arr.append(eval(item))"
   ]
  },
  {
   "attachments": {},
   "cell_type": "markdown",
   "metadata": {},
   "source": [
    "The json.dumps is purely a visualization tool, that automatically displays a very readable formatted complex and hard to read dictionary.\n",
    "\n",
    "This is an example of it used to visualize data about the first (0th) product."
   ]
  },
  {
   "cell_type": "code",
   "execution_count": 26,
   "metadata": {},
   "outputs": [
    {
     "name": "stdout",
     "output_type": "stream",
     "text": [
      "{\n",
      "    \"sku\": {\n",
      "        \"S\": \"3000061567\"\n",
      "    },\n",
      "    \"pricing\": {\n",
      "        \"M\": {\n",
      "            \"displayCondition\": {\n",
      "                \"NULL\": true\n",
      "            },\n",
      "            \"isClearance\": {\n",
      "                \"BOOL\": false\n",
      "            },\n",
      "            \"isRollback\": {\n",
      "                \"BOOL\": false\n",
      "            },\n",
      "            \"unit\": {\n",
      "                \"N\": \"0.151\"\n",
      "            },\n",
      "            \"displayPrice\": {\n",
      "                \"N\": \"4.98\"\n",
      "            },\n",
      "            \"salesQuantity\": {\n",
      "                \"N\": \"33\"\n",
      "            },\n",
      "            \"priceUnitOfMeasure\": {\n",
      "                \"S\": \"each\"\n",
      "            },\n",
      "            \"displayUnitPrice\": {\n",
      "                \"S\": \"(15.1 \\u00a2/ea)\"\n",
      "            },\n",
      "            \"previousPrice\": {\n",
      "                \"N\": \"0\"\n",
      "            },\n",
      "            \"list\": {\n",
      "                \"N\": \"4.98\"\n",
      "            },\n",
      "            \"salesUnitOfMeasure\": {\n",
      "                \"S\": \"each\"\n",
      "            }\n",
      "        }\n",
      "    },\n",
      "    \"info\": {\n",
      "        \"M\": {\n",
      "            \"image\": {\n",
      "                \"M\": {\n",
      "                    \"thumbnail\": {\n",
      "                        \"S\": \"https://i5.walmartimages.com/asr/e734f313-bee0-4bd8-85b4-1c9853d209e9_1.3b61401717283f5c27ef3769c01140be.jpeg?odnHeight=150&odnWidth=150&odnBg=ffffff\"\n",
      "                    }\n",
      "                }\n",
      "            },\n",
      "            \"maxAllowed\": {\n",
      "                \"N\": \"12\"\n",
      "            },\n",
      "            \"salesUnit\": {\n",
      "                \"S\": \"Each\"\n",
      "            },\n",
      "            \"name\": {\n",
      "                \"S\": \"Malt-O-Meal Tootie Fruities\\u00ae Breakfast Cereal, Bulk Bagged Cereal, 33 Ounce - 1 count\"\n",
      "            },\n",
      "            \"weightIncrement\": {\n",
      "                \"N\": \"1\"\n",
      "            },\n",
      "            \"isSnapEligible\": {\n",
      "                \"BOOL\": true\n",
      "            },\n",
      "            \"averageWeight\": {\n",
      "                \"NULL\": true\n",
      "            },\n",
      "            \"productUrl\": {\n",
      "                \"S\": \"/ip/Malt-O-Meal-Tootie-Fruities-Breakfast-Cereal-Bulk-Bagged-Cereal-33-Ounce-1-count/22210561\"\n",
      "            },\n",
      "            \"type\": {\n",
      "                \"S\": \"REGULAR\"\n",
      "            }\n",
      "        }\n",
      "    }\n",
      "}\n"
     ]
    }
   ],
   "source": [
    "print(json.dumps(productdetails_arr[102], indent=4))"
   ]
  },
  {
   "attachments": {},
   "cell_type": "markdown",
   "metadata": {},
   "source": [
    "Making a list of the different categories and products."
   ]
  },
  {
   "cell_type": "code",
   "execution_count": 27,
   "metadata": {},
   "outputs": [],
   "source": [
    "category_list = list(set(data[\"category\"]))"
   ]
  },
  {
   "cell_type": "code",
   "execution_count": 28,
   "metadata": {},
   "outputs": [
    {
     "name": "stdout",
     "output_type": "stream",
     "text": [
      "['small_electric_household_appliances', 'milk_cheese_eggs', 'bread_cereal', 'fish_seafood', 'meat', 'vegetables', 'beef', 'oils_fats']\n"
     ]
    }
   ],
   "source": [
    "print(category_list)"
   ]
  },
  {
   "cell_type": "code",
   "execution_count": 29,
   "metadata": {},
   "outputs": [],
   "source": [
    "category_dict = {}\n",
    "for category in category_list:\n",
    "    category_dict[category] = []"
   ]
  },
  {
   "cell_type": "code",
   "execution_count": 30,
   "metadata": {},
   "outputs": [],
   "source": [
    "product_list = list(set(data[\"product\"]))"
   ]
  },
  {
   "cell_type": "code",
   "execution_count": 31,
   "metadata": {
    "vscode": {
     "languageId": "perl"
    }
   },
   "outputs": [
    {
     "data": {
      "text/plain": [
       "['potatoes',\n",
       " 'frozen-fish',\n",
       " 'frozen-seafood',\n",
       " 'cereal',\n",
       " 'butter',\n",
       " 'pasta',\n",
       " 'vegetables',\n",
       " 'curd',\n",
       " 'goat',\n",
       " 'chicken',\n",
       " 'tuber-vegetables',\n",
       " 'coffee maker',\n",
       " 'oil',\n",
       " 'margarine',\n",
       " 'couscous',\n",
       " 'lamb',\n",
       " 'fish',\n",
       " 'electric grill',\n",
       " 'food processor',\n",
       " 'rice',\n",
       " 'microwave',\n",
       " 'bakery',\n",
       " 'poultry',\n",
       " 'veal',\n",
       " 'eggs',\n",
       " 'mixer',\n",
       " 'toaster',\n",
       " 'milk',\n",
       " 'cheese',\n",
       " 'fryer',\n",
       " 'bread',\n",
       " 'seafood',\n",
       " 'rice cooker',\n",
       " 'beef']"
      ]
     },
     "execution_count": 31,
     "metadata": {},
     "output_type": "execute_result"
    }
   ],
   "source": [
    "product_list"
   ]
  },
  {
   "cell_type": "code",
   "execution_count": 53,
   "metadata": {},
   "outputs": [
    {
     "data": {
      "text/plain": [
       "{'small_electric_household_appliances': {'coffee maker',\n",
       "  'electric grill',\n",
       "  'food processor',\n",
       "  'fryer',\n",
       "  'microwave',\n",
       "  'mixer',\n",
       "  'rice cooker',\n",
       "  'toaster'},\n",
       " 'milk_cheese_eggs': {'cheese', 'curd', 'eggs', 'milk'},\n",
       " 'bread_cereal': {'bakery', 'bread', 'cereal', 'couscous', 'pasta', 'rice'},\n",
       " 'fish_seafood': {'fish', 'frozen-fish', 'frozen-seafood', 'seafood'},\n",
       " 'meat': {'beef', 'chicken', 'goat', 'lamb', 'poultry', 'veal'},\n",
       " 'vegetables': {'potatoes', 'tuber-vegetables', 'vegetables'},\n",
       " 'beef': {'beef'},\n",
       " 'oils_fats': {'butter', 'margarine', 'oil'}}"
      ]
     },
     "execution_count": 53,
     "metadata": {},
     "output_type": "execute_result"
    }
   ],
   "source": [
    "categoryProductRelations = {}\n",
    "for category in category_list:\n",
    "    products = []\n",
    "    for rowProduct, rowCategory in zip(data[\"product\"], data[\"category\"]):\n",
    "        if rowCategory == category:\n",
    "            products.append(rowProduct)\n",
    "    categoryProductRelations[category] = set(products)\n",
    "categoryProductRelations"
   ]
  },
  {
   "cell_type": "code",
   "execution_count": 35,
   "metadata": {},
   "outputs": [],
   "source": [
    "import networkx as nx\n",
    "import matplotlib.pyplot as plt\n",
    "import scipy as sci"
   ]
  },
  {
   "cell_type": "code",
   "execution_count": 50,
   "metadata": {},
   "outputs": [
    {
     "data": {
      "image/png": "[encoded data removed]",
      "text/plain": [
       "<Figure size 432x288 with 1 Axes>"
      ]
     },
     "metadata": {},
     "output_type": "display_data"
    }
   ],
   "source": [
    "\n",
    "nodeNames = category_list + product_list\n",
    "G = nx.Graph()\n",
    "G.add_nodes_from(nodeNames)\n",
    "for category in category_list:\n",
    "    for product in product_list:\n",
    "        if category in productCategoryRelations[product]:\n",
    "            G.add_edge(category, product)\n",
    "\n",
    "pos = nx.planar_layout(G)\n",
    "nx.draw(G, with_labels= True, pos=pos)"
   ]
  },
  {
   "cell_type": "code",
   "execution_count": null,
   "metadata": {},
   "outputs": [],
   "source": []
  }
 ],
 "metadata": {
  "kernelspec": {
   "display_name": "base",
   "language": "python",
   "name": "python3"
  },
  "language_info": {
   "codemirror_mode": {
    "name": "ipython",
    "version": 3
   },
   "file_extension": ".py",
   "mimetype": "text/x-python",
   "name": "python",
   "nbconvert_exporter": "python",
   "pygments_lexer": "ipython3",
   "version": "3.9.12"
  },
  "orig_nbformat": 4
 },
 "nbformat": 4,
 "nbformat_minor": 2
}
