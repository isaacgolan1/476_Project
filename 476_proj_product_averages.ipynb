{
 "cells": [
  {
   "cell_type": "code",
   "execution_count": 1,
   "id": "770e87e8-8d85-4d7c-969e-ff3dc58a53e3",
   "metadata": {
    "collapsed": false
   },
   "outputs": [],
   "source": [
    "import pandas as pd\n",
    "import numpy as np\n",
    "import json\n",
    "data = pd.read_csv('products.csv')\n",
    "\n"
   ]
  },
  {
   "cell_type": "markdown",
   "id": "6e6d7655-e634-4a86-97a9-e8d678deca8f",
   "metadata": {
    "collapsed": false
   },
   "source": [
    ".head() just shows the first 5 cells of the dataframe\n",
    "\n",
    "TCIN means \"Target.com Item Number\"\n",
    "\n",
    "SKU means \"Stock Keeping Unit\"\n",
    "\n",
    "NOON I think is just null/NaN/None"
   ]
  },
  {
   "cell_type": "code",
   "execution_count": 2,
   "id": "6a829d28-eb92-4771-8cfc-cf9c3f8f0649",
   "metadata": {
    "collapsed": false
   },
   "outputs": [
    {
     "data": {
      "text/html": [
       "<div>\n",
       "<style scoped>\n",
       "    .dataframe tbody tr th:only-of-type {\n",
       "        vertical-align: middle;\n",
       "    }\n",
       "\n",
       "    .dataframe tbody tr th {\n",
       "        vertical-align: top;\n",
       "    }\n",
       "\n",
       "    .dataframe thead th {\n",
       "        text-align: right;\n",
       "    }\n",
       "</style>\n",
       "<table border=\"1\" class=\"dataframe\">\n",
       "  <thead>\n",
       "    <tr style=\"text-align: right;\">\n",
       "      <th></th>\n",
       "      <th>category</th>\n",
       "      <th>date-collected</th>\n",
       "      <th>product</th>\n",
       "      <th>product-details</th>\n",
       "      <th>query</th>\n",
       "      <th>store</th>\n",
       "    </tr>\n",
       "  </thead>\n",
       "  <tbody>\n",
       "    <tr>\n",
       "      <th>0</th>\n",
       "      <td>vegetables</td>\n",
       "      <td>2021-08-24</td>\n",
       "      <td>vegetables</td>\n",
       "      <td>{\"tcin\":{\"S\":\"47095644\"},\"pricing\":{\"M\":{\"curr...</td>\n",
       "      <td>vegetables</td>\n",
       "      <td>target</td>\n",
       "    </tr>\n",
       "    <tr>\n",
       "      <th>1</th>\n",
       "      <td>vegetables</td>\n",
       "      <td>2021-08-24</td>\n",
       "      <td>vegetables</td>\n",
       "      <td>{\"images\":{\"M\":{\"image_keys\":{\"L\":[{\"S\":\"v1628...</td>\n",
       "      <td>vegetables</td>\n",
       "      <td>noon</td>\n",
       "    </tr>\n",
       "    <tr>\n",
       "      <th>2</th>\n",
       "      <td>fish_seafood</td>\n",
       "      <td>2021-08-23</td>\n",
       "      <td>seafood</td>\n",
       "      <td>{\"images\":{\"M\":{\"image_keys\":{\"L\":[{\"S\":\"v1558...</td>\n",
       "      <td>seafood</td>\n",
       "      <td>noon</td>\n",
       "    </tr>\n",
       "    <tr>\n",
       "      <th>3</th>\n",
       "      <td>oils_fats</td>\n",
       "      <td>2021-08-24</td>\n",
       "      <td>butter</td>\n",
       "      <td>{\"tcin\":{\"S\":\"53930343\"},\"pricing\":{\"M\":{\"curr...</td>\n",
       "      <td>butter</td>\n",
       "      <td>target</td>\n",
       "    </tr>\n",
       "    <tr>\n",
       "      <th>4</th>\n",
       "      <td>small_electric_household_appliances</td>\n",
       "      <td>2021-08-25</td>\n",
       "      <td>rice cooker</td>\n",
       "      <td>{\"sku\":{\"S\":\"131735446\"},\"pricing\":{\"M\":{\"disp...</td>\n",
       "      <td>rice cooker</td>\n",
       "      <td>walmart</td>\n",
       "    </tr>\n",
       "  </tbody>\n",
       "</table>\n",
       "</div>"
      ],
      "text/plain": [
       "                              category date-collected      product  \\\n",
       "0                           vegetables     2021-08-24   vegetables   \n",
       "1                           vegetables     2021-08-24   vegetables   \n",
       "2                         fish_seafood     2021-08-23      seafood   \n",
       "3                            oils_fats     2021-08-24       butter   \n",
       "4  small_electric_household_appliances     2021-08-25  rice cooker   \n",
       "\n",
       "                                     product-details        query    store  \n",
       "0  {\"tcin\":{\"S\":\"47095644\"},\"pricing\":{\"M\":{\"curr...   vegetables   target  \n",
       "1  {\"images\":{\"M\":{\"image_keys\":{\"L\":[{\"S\":\"v1628...   vegetables     noon  \n",
       "2  {\"images\":{\"M\":{\"image_keys\":{\"L\":[{\"S\":\"v1558...      seafood     noon  \n",
       "3  {\"tcin\":{\"S\":\"53930343\"},\"pricing\":{\"M\":{\"curr...       butter   target  \n",
       "4  {\"sku\":{\"S\":\"131735446\"},\"pricing\":{\"M\":{\"disp...  rice cooker  walmart  "
      ]
     },
     "execution_count": 2,
     "metadata": {},
     "output_type": "execute_result"
    }
   ],
   "source": [
    "data.head()"
   ]
  },
  {
   "cell_type": "markdown",
   "id": "0b232eed-1c94-49bd-bdd9-caf01d75eaab",
   "metadata": {
    "collapsed": false
   },
   "source": [
    "See that each dictionary that describes a product is totally unreadable"
   ]
  },
  {
   "cell_type": "code",
   "execution_count": null,
   "metadata": {},
   "outputs": [],
   "source": []
  },
  {
   "cell_type": "code",
   "execution_count": null,
   "metadata": {},
   "outputs": [],
   "source": []
  },
  {
   "cell_type": "code",
   "execution_count": null,
   "metadata": {},
   "outputs": [],
   "source": []
  },
  {
   "cell_type": "code",
   "execution_count": null,
   "metadata": {},
   "outputs": [],
   "source": []
  },
  {
   "cell_type": "markdown",
   "id": "37011a9c-ae95-4068-95ae-7734ee81c023",
   "metadata": {
    "collapsed": false
   },
   "source": [
    "\"product-details\" is the real meat of the data set. This FOR LOOP loops through product-details column, which contains a bunch of nested dictionaries that are in string form. \"True\" with a capital T and \"False\" with a capital F is the correct Python syntax, so it makes this correction. \n",
    "\n",
    "The variable productdetails_arr is a list of indices 0 to 3245, which at each index contains a dictionary describing each product. "
   ]
  },
  {
   "cell_type": "code",
   "execution_count": 4,
   "id": "73468d1d-1c9c-468e-bfb7-0bf341dc0110",
   "metadata": {
    "collapsed": false
   },
   "outputs": [],
   "source": [
    "testseries = data[\"product-details\"]\n",
    "productdetails_arr = []\n",
    "for item in testseries:\n",
    "    item = item.replace(\"true\", \"True\")\n",
    "    item = item.replace(\"false\", \"False\")\n",
    "    productdetails_arr.append(eval(item))"
   ]
  },
  {
   "cell_type": "markdown",
   "id": "4dabbb85-61a7-4ec8-a4d7-02092c16f445",
   "metadata": {
    "collapsed": false
   },
   "source": [
    "The json.dumps is purely a visualization tool, that automatically displays a very readable formatted complex and hard to read dictionary.\n",
    "\n",
    "This is an example of it used to visualize data about the first (0th) product."
   ]
  },
  {
   "cell_type": "code",
   "execution_count": 5,
   "id": "3bfbe524-af1c-489f-85ac-848df15a9e19",
   "metadata": {
    "collapsed": false
   },
   "outputs": [
    {
     "name": "stdout",
     "output_type": "stream",
     "text": [
      "{\n",
      "    \"images\": {\n",
      "        \"M\": {\n",
      "            \"image_keys\": {\n",
      "                \"L\": [\n",
      "                    {\n",
      "                        \"S\": \"v1628406832/N29469747A_1\"\n",
      "                    }\n",
      "                ]\n",
      "            }\n",
      "        }\n",
      "    },\n",
      "    \"name\": {\n",
      "        \"S\": \"Char Grilled Peppers 290g\"\n",
      "    },\n",
      "    \"sku\": {\n",
      "        \"S\": \"N29469747A\"\n",
      "    },\n",
      "    \"brand\": {\n",
      "        \"S\": \"Sacla\"\n",
      "    },\n",
      "    \"specifications\": {\n",
      "        \"L\": [\n",
      "            {\n",
      "                \"M\": {\n",
      "                    \"name\": {\n",
      "                        \"S\": \"Packaging Disclaimer\"\n",
      "                    },\n",
      "                    \"value\": {\n",
      "                        \"S\": \"Packaging may vary\"\n",
      "                    },\n",
      "                    \"code\": {\n",
      "                        \"S\": \"attribute_key_3\"\n",
      "                    }\n",
      "                }\n",
      "            },\n",
      "            {\n",
      "                \"M\": {\n",
      "                    \"name\": {\n",
      "                        \"S\": \"Size\"\n",
      "                    },\n",
      "                    \"value\": {\n",
      "                        \"S\": \"290 g\"\n",
      "                    },\n",
      "                    \"code\": {\n",
      "                        \"S\": \"size\"\n",
      "                    }\n",
      "                }\n",
      "            }\n",
      "        ]\n",
      "    },\n",
      "    \"pricing\": {\n",
      "        \"M\": {\n",
      "            \"sale_price\": {\n",
      "                \"NULL\": true\n",
      "            },\n",
      "            \"price\": {\n",
      "                \"N\": \"13.6\"\n",
      "            }\n",
      "        }\n",
      "    },\n",
      "    \"url\": {\n",
      "        \"S\": \"char-grilled-peppers-290g/N29469747A\"\n",
      "    }\n",
      "}\n"
     ]
    }
   ],
   "source": [
    "print(json.dumps(productdetails_arr[1], indent=4))"
   ]
  },
  {
   "cell_type": "markdown",
   "id": "bfa24780-1b9c-40ee-b20d-d449509020f4",
   "metadata": {
    "collapsed": false
   },
   "source": [
    "Making a list of the different categories and products."
   ]
  },
  {
   "cell_type": "code",
   "execution_count": 6,
   "id": "06ff011c-f089-4573-a4e4-df3ae0efd5e9",
   "metadata": {
    "collapsed": false
   },
   "outputs": [],
   "source": [
    "category_list = list(set(data[\"category\"]))"
   ]
  },
  {
   "cell_type": "code",
   "execution_count": 7,
   "id": "f5b5f28d-8aa2-4c23-8f09-df312de887a3",
   "metadata": {
    "collapsed": false
   },
   "outputs": [
    {
     "name": "stdout",
     "output_type": "stream",
     "text": [
      "['beef', 'vegetables', 'fish_seafood', 'oils_fats', 'small_electric_household_appliances', 'meat', 'bread_cereal', 'milk_cheese_eggs']\n"
     ]
    }
   ],
   "source": [
    "print(category_list)"
   ]
  },
  {
   "cell_type": "code",
   "execution_count": 8,
   "id": "545a7e14-0f7f-4ade-99bb-a1186a7fafc9",
   "metadata": {
    "collapsed": false
   },
   "outputs": [],
   "source": [
    "category_dict = {}\n",
    "for category in category_list:\n",
    "    category_dict[category] = []"
   ]
  },
  {
   "cell_type": "code",
   "execution_count": 9,
   "id": "f04b436c-7f37-4a43-ac30-d2a7d9c49487",
   "metadata": {
    "collapsed": false
   },
   "outputs": [],
   "source": [
    "product_list = list(set(data[\"product\"]))"
   ]
  },
  {
   "cell_type": "code",
   "execution_count": 10,
   "id": "077a7c7c-edae-422e-aa07-1b5dce0aa188",
   "metadata": {
    "collapsed": false,
    "vscode": {
     "languageId": "perl"
    }
   },
   "outputs": [
    {
     "data": {
      "text/plain": [
       "['microwave',\n",
       " 'fish',\n",
       " 'seafood',\n",
       " 'frozen-seafood',\n",
       " 'couscous',\n",
       " 'bakery',\n",
       " 'cheese',\n",
       " 'bread',\n",
       " 'curd',\n",
       " 'vegetables',\n",
       " 'mixer',\n",
       " 'frozen-fish',\n",
       " 'tuber-vegetables',\n",
       " 'fryer',\n",
       " 'toaster',\n",
       " 'coffee maker',\n",
       " 'milk',\n",
       " 'potatoes',\n",
       " 'lamb',\n",
       " 'rice',\n",
       " 'electric grill',\n",
       " 'butter',\n",
       " 'goat',\n",
       " 'margarine',\n",
       " 'beef',\n",
       " 'oil',\n",
       " 'rice cooker',\n",
       " 'food processor',\n",
       " 'chicken',\n",
       " 'veal',\n",
       " 'pasta',\n",
       " 'cereal',\n",
       " 'eggs',\n",
       " 'poultry']"
      ]
     },
     "execution_count": 10,
     "metadata": {},
     "output_type": "execute_result"
    }
   ],
   "source": [
    "product_list"
   ]
  },
  {
   "cell_type": "code",
   "execution_count": 11,
   "id": "7550b30a-47e4-41d3-8882-efca7f2cad1c",
   "metadata": {
    "collapsed": false
   },
   "outputs": [
    {
     "data": {
      "text/plain": [
       "['ubuy', 'target', 'walmart', 'noon']"
      ]
     },
     "execution_count": 11,
     "metadata": {},
     "output_type": "execute_result"
    }
   ],
   "source": [
    "store_list = list(set(data[\"store\"]))\n",
    "store_list"
   ]
  },
  {
   "cell_type": "code",
   "execution_count": 12,
   "id": "a0a541f2-a71b-4954-8ba5-b76582176a88",
   "metadata": {
    "collapsed": false
   },
   "outputs": [
    {
     "data": {
      "text/plain": [
       "{'beef': {'beef'},\n",
       " 'vegetables': {'potatoes', 'tuber-vegetables', 'vegetables'},\n",
       " 'fish_seafood': {'fish', 'frozen-fish', 'frozen-seafood', 'seafood'},\n",
       " 'oils_fats': {'butter', 'margarine', 'oil'},\n",
       " 'small_electric_household_appliances': {'coffee maker',\n",
       "  'electric grill',\n",
       "  'food processor',\n",
       "  'fryer',\n",
       "  'microwave',\n",
       "  'mixer',\n",
       "  'rice cooker',\n",
       "  'toaster'},\n",
       " 'meat': {'beef', 'chicken', 'goat', 'lamb', 'poultry', 'veal'},\n",
       " 'bread_cereal': {'bakery', 'bread', 'cereal', 'couscous', 'pasta', 'rice'},\n",
       " 'milk_cheese_eggs': {'cheese', 'curd', 'eggs', 'milk'}}"
      ]
     },
     "execution_count": 12,
     "metadata": {},
     "output_type": "execute_result"
    }
   ],
   "source": [
    "categoryProductRelations = {}\n",
    "for category in category_list:\n",
    "    products = []\n",
    "    for rowProduct, rowCategory in zip(data[\"product\"], data[\"category\"]):\n",
    "        if rowCategory == category:\n",
    "            products.append(rowProduct)\n",
    "    categoryProductRelations[category] = set(products)\n",
    "categoryProductRelations"
   ]
  },
  {
   "cell_type": "code",
   "execution_count": 13,
   "id": "e0be7c42-d073-4b8d-a69a-98a09b43b810",
   "metadata": {
    "collapsed": false
   },
   "outputs": [],
   "source": [
    "import networkx as nx\n",
    "import matplotlib.pyplot as plt\n",
    "import scipy as sci"
   ]
  },
  {
   "cell_type": "code",
   "execution_count": 14,
   "id": "74145047-48e7-48b1-b513-49628ed666e0",
   "metadata": {
    "collapsed": false
   },
   "outputs": [
    {
     "data": {
      "image/png": "[encoded data removed]",
      "text/plain": [
       "<Figure size 432x288 with 1 Axes>"
      ]
     },
     "metadata": {},
     "output_type": "display_data"
    }
   ],
   "source": [
    "nodeNames = category_list + product_list\n",
    "G = nx.Graph()\n",
    "G.add_nodes_from(nodeNames)\n",
    "for category in category_list:\n",
    "    for product in product_list:\n",
    "        if product in categoryProductRelations[category]:\n",
    "            G.add_edge(category, product)\n",
    "\n",
    "pos = nx.planar_layout(G)\n",
    "nx.draw(G, with_labels= True, pos=pos)"
   ]
  },
  {
   "attachments": {},
   "cell_type": "markdown",
   "metadata": {},
   "source": [
    "Make a sample of the data evenly distributed across stores"
   ]
  },
  {
   "cell_type": "code",
   "execution_count": 15,
   "id": "74c82391-1e92-4cc7-a2bc-22711ac8f403",
   "metadata": {
    "collapsed": false
   },
   "outputs": [],
   "source": [
    "store_sorted_data = data.sort_values(by=[\"store\"], ascending = False)\n",
    "items = []\n",
    "cstore = store_list[0]\n",
    "count = 0\n",
    "for rawDetails, store in zip(data[\"product-details\"], data[\"store\"]):\n",
    "    if store == cstore:\n",
    "        if count <= 20:\n",
    "            items.append(rawDetails)\n",
    "\n",
    "    else:\n",
    "        cstore = store\n",
    "        "
   ]
  },
  {
   "attachments": {},
   "cell_type": "markdown",
   "metadata": {},
   "source": [
    "Pull out some items from just one store"
   ]
  },
  {
   "cell_type": "code",
   "execution_count": 16,
   "metadata": {},
   "outputs": [
    {
     "name": "stdout",
     "output_type": "stream",
     "text": [
      "{\n",
      "    \"description\": {\n",
      "        \"S\": \"Amazon Basics 2 Slice, Extra-Wide Slot Toaster with 6 Shade Settings, Black\"\n",
      "    },\n",
      "    \"image\": {\n",
      "        \"S\": \"https://m.media-amazon.com/images/I/81Em0hlUeJL._AC_US218_.jpg\"\n",
      "    },\n",
      "    \"specifications\": {\n",
      "        \"S\": \"{\\\"0\\\":{\\\"0\\\":\\\"Product Dimensions\\\",\\\"1\\\":\\\"10.7 x 6.42 x 7.56 inches (27.2 x 16.3 x 19.2 cms)\\\"},\\\"1\\\":{\\\"0\\\":\\\"Item Weight\\\",\\\"1\\\":\\\"2.17 pounds (0.98 kg)\\\"},\\\"2\\\":{\\\"0\\\":\\\"Manufacturer\\\",\\\"1\\\":\\\"Amazon Basics\\\"},\\\"3\\\":{\\\"0\\\":\\\"ASIN\\\",\\\"1\\\":\\\"B072P11H8L\\\"},\\\"4\\\":{\\\"0\\\":\\\"Country of Origin\\\",\\\"1\\\":\\\"China\\\"},\\\"5\\\":{\\\"0\\\":\\\"Item model number\\\",\\\"1\\\":\\\"KT-3680\\\"},\\\"6\\\":{\\\"0\\\":\\\"Brand\\\",\\\"1\\\":\\\"Amazon Basics\\\"},\\\"7\\\":{\\\"0\\\":\\\"Color\\\",\\\"1\\\":\\\"Black & Silver\\\"},\\\"8\\\":{\\\"0\\\":\\\"Item Dimensions LxWxH\\\",\\\"1\\\":\\\"10.7 x 6.42 x 7.56 inches (27.2 x 16.3 x 19.2 cms)\\\"},\\\"9\\\":{\\\"0\\\":\\\"Item Weight\\\",\\\"1\\\":\\\"2.17 Pounds (0.98 kg)\\\"},\\\"10\\\":{\\\"0\\\":\\\"Voltage\\\",\\\"1\\\":\\\"110 Volts\\\"}}\"\n",
      "    },\n",
      "    \"price\": {\n",
      "        \"S\": \"MXN 790\"\n",
      "    }\n",
      "}\n"
     ]
    }
   ],
   "source": [
    "store_sorted_data = data.sort_values(by=[\"store\"], ascending = False)\n",
    "items = []\n",
    "cstore = store_list[0]\n",
    "count = 0\n",
    "for rawDetails, store in zip(data[\"product-details\"], data[\"store\"]):\n",
    "    if store == \"ubuy\":\n",
    "        items.append(rawDetails + \"\\n\")\n",
    "\n",
    "with open(\"sample.csv\", \"w\") as f:\n",
    "    f.writelines(items)\n",
    "\n",
    "print(json.dumps(json.loads(items[2]), indent = 4))"
   ]
  },
  {
   "cell_type": "code",
   "execution_count": null,
   "metadata": {},
   "outputs": [],
   "source": [
    "def findPrice(product_details, store):\n",
    "    finders = {\n",
    "        'target': lambda o: o.pricing.M.current_retail.N,\n",
    "        'walmart': lambda o: o.pricing.M.displayPrice.N,\n",
    "        'noon': lambda o: o.pricing.M.price.N,\n",
    "        'ubuy': lambda o: o.price.S\n",
    "    }\n",
    "    if store != 'ubuy':\n",
    "        return float(finders[store](product-details))\n",
    "    else\n",
    "        return float(60) # average ubuy price in USD for toasters which is the only ubuy product in the data set        \n",
    "\n",
    "productAverages = { product: {average: 0, count: 0} for product in product_list }\n",
    "for index, row in df.iterrows():\n",
    "    product = row[\"product\"]\n",
    "    price = findPrice(row[\"product-details\"], row[\"store\"])\n",
    "    currentCount = productAverages[product][count]\n",
    "    currentAverage = productAverages[product][average]\n",
    "\n",
    "    newCount = currentCount + 1\n",
    "    newAverage = ((currentAverage*count) + price)/newCount\n",
    "\n",
    "    productAverages[product] = {\n",
    "        count = newCount,\n",
    "        average = newAverage\n",
    "    }\n",
    "\n",
    "    \n",
    "    \n",
    "\n",
    "\n",
    "\n",
    "\n",
    "\n",
    "\n",
    "\n",
    "\n",
    "\n",
    "\n"
   ]
  }
 ],
 "metadata": {
  "kernelspec": {
   "display_name": "Python 3.9.9 64-bit",
   "language": "python",
   "name": "python3"
  },
  "language_info": {
   "codemirror_mode": {
    "name": "ipython",
    "version": 3
   },
   "file_extension": ".py",
   "mimetype": "text/x-python",
   "name": "python",
   "nbconvert_exporter": "python",
   "pygments_lexer": "ipython3",
   "version": "3.9.9"
  },
  "name": "476_proj_1.ipynb",
  "vscode": {
   "interpreter": {
    "hash": "9372712e46a00cd3e4b74d1411b7eb1a73046b3820f060fa3ad859605452f750"
   }
  }
 },
 "nbformat": 4,
 "nbformat_minor": 2
}
